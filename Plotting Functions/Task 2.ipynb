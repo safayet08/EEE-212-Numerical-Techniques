{
 "cells": [
  {
   "cell_type": "code",
   "execution_count": 1,
   "metadata": {},
   "outputs": [],
   "source": [
    "import numpy as np\n",
    "import numpy.linalg as LA\n",
    "import numpy.random\n",
    "import matplotlib.pyplot as plt\n",
    "\n",
    "%matplotlib inline"
   ]
  },
  {
   "cell_type": "code",
   "execution_count": 2,
   "metadata": {},
   "outputs": [],
   "source": [
    "# Given constant values\n",
    "\n",
    "K = 0.05\n",
    "p_t = 3 "
   ]
  },
  {
   "cell_type": "code",
   "execution_count": 3,
   "metadata": {},
   "outputs": [],
   "source": [
    "def f(x):\n",
    "    return (x/(1 - x)) * np.sqrt(2 * p_t / (2 + x)) - K\n"
   ]
  },
  {
   "cell_type": "code",
   "execution_count": 4,
   "metadata": {},
   "outputs": [],
   "source": [
    "def error(a,b):\n",
    "    return abs((a - b) / (a)) * 100"
   ]
  },
  {
   "cell_type": "code",
   "execution_count": 5,
   "metadata": {},
   "outputs": [],
   "source": [
    "# E_s = Error threshold epsillon\n",
    "\n",
    "def secant(f, a, b, E_s, max_iteration):\n",
    "    count = 0\n",
    "    \n",
    "    # Both the first estimation of the root are on the same side !!\n",
    "    if(f(a) * f(b) >= 0):\n",
    "        print(\"secant method failed\")\n",
    "        #return None\n",
    "  \n",
    "    for n in range(1, max_iteration + 1):\n",
    "        count += 1\n",
    "        ans = a - (f(a) * (b-a)) / (f(b) - f(a))\n",
    "        if(error(ans, b) <= E_s):\n",
    "            print(TCYAN + \"solution found\")\n",
    "            return (ans, count)\n",
    "        a = b\n",
    "        b = ans\n",
    "        \n",
    "    return (a, count)"
   ]
  },
  {
   "cell_type": "code",
   "execution_count": 6,
   "metadata": {},
   "outputs": [],
   "source": [
    "# E_s = Error threshold epsillon\n",
    "\n",
    "def False_Position_Method(f,a,b,E_s,max_iteration):\n",
    "    old_ans = 0\n",
    "    count = 0\n",
    "    if(f(a) * f(b) >= 0):\n",
    "        print(TRED + \"False Position Method failed\")\n",
    "        #return None\n",
    "\n",
    "    for n in range(1, max_iteration + 1):\n",
    "        count += 1\n",
    "        ans = a - (f(a) * (b - a)) / (f(b) - f(a))\n",
    "       \n",
    "        if(error(ans, old_ans) <= E_s):\n",
    "            print(\"solution found\")\n",
    "            return (ans, count)\n",
    "        \n",
    "        if(f(a) * f(ans) < 0):\n",
    "            b = ans\n",
    "            old_ans = b\n",
    "        elif(f(b) * f(ans) < 0):\n",
    "            a = ans\n",
    "            old_ans = a\n",
    "        elif(f(ans) == 0):\n",
    "            return (ans, count)\n",
    "        else:\n",
    "            print(\"False Position Method failed\")\n",
    "            return None\n",
    "    \n",
    "    return (a - (f(a)(b-a)) / (f(b) - f(a)), count)"
   ]
  },
  {
   "cell_type": "code",
   "execution_count": 7,
   "metadata": {},
   "outputs": [
    {
     "data": {
      "image/png": "[encoded data removed]",
      "text/plain": [
       "<Figure size 432x288 with 1 Axes>"
      ]
     },
     "metadata": {
      "needs_background": "light"
     },
     "output_type": "display_data"
    }
   ],
   "source": [
    "x = np.arange(-0.5, 0.5, 0.0001)\n",
    "\n",
    "y = (x / (1 - x)) * np.sqrt(2 * p_t / (2 + x)) - K\n",
    "\n",
    "plt.plot(x,y)\n",
    "z = x * 0\n",
    "plt.plot(x, z, color = \"green\")\n",
    "\n",
    "idx = np.argwhere(np.diff(np.sign(y - z))).flatten()\n",
    "\n",
    "plt.plot(x[idx], y[idx], \"ro\")\n",
    "\n",
    "plt.legend() \n",
    "plt.xlabel(\"x\")\n",
    "plt.ylabel(\"f(x)\")\n",
    "plt.title(\"Graphical Method\")\n",
    "plt.grid()\n",
    "plt.show()"
   ]
  },
  {
   "cell_type": "code",
   "execution_count": 8,
   "metadata": {},
   "outputs": [
    {
     "name": "stdout",
     "output_type": "stream",
     "text": [
      "the graphically estimated solution is 0.02820\n"
     ]
    }
   ],
   "source": [
    "print(\"the graphically estimated solution is %.5f\" %x[idx])"
   ]
  },
  {
   "cell_type": "code",
   "execution_count": 11,
   "metadata": {},
   "outputs": [
    {
     "name": "stdout",
     "output_type": "stream",
     "text": [
      "Enter first initial guess of secant method 4\n",
      "Enter second initial guess of secant method 5\n",
      "Enter maximum no of iteration 100\n"
     ]
    },
    {
     "name": "stderr",
     "output_type": "stream",
     "text": [
      "/Users/Safayet/anaconda3/envs/Data_Analysis/lib/python2.7/site-packages/ipykernel_launcher.py:13: RuntimeWarning: divide by zero encountered in double_scalars\n",
      "  del sys.path[0]\n",
      "/Users/Safayet/anaconda3/envs/Data_Analysis/lib/python2.7/site-packages/ipykernel_launcher.py:2: RuntimeWarning: invalid value encountered in double_scalars\n",
      "  \n"
     ]
    },
    {
     "name": "stdout",
     "output_type": "stream",
     "text": [
      "secant method failed\n",
      "('Solution by secant method is ', nan)\n",
      "('No of iterations in secant method', 100)\n",
      "Enter first initial guess of false position method -2\n",
      "Enter second initial guess of false position method -1\n",
      "Enter maximum no of iteration100\n"
     ]
    },
    {
     "ename": "ZeroDivisionError",
     "evalue": "float division by zero",
     "output_type": "error",
     "traceback": [
      "\u001b[0;31m---------------------------------------------------------------------------\u001b[0m",
      "\u001b[0;31mZeroDivisionError\u001b[0m                         Traceback (most recent call last)",
      "\u001b[0;32m<ipython-input-11-9353e886c127>\u001b[0m in \u001b[0;36m<module>\u001b[0;34m()\u001b[0m\n\u001b[1;32m     13\u001b[0m \u001b[0;34m\u001b[0m\u001b[0m\n\u001b[1;32m     14\u001b[0m fpm_ans , no_of_iteration = False_Position_Method(f, float(first_in_guess), float(second_in_guess), \n\u001b[0;32m---> 15\u001b[0;31m                                                   0.005, int(max_itr))\n\u001b[0m\u001b[1;32m     16\u001b[0m \u001b[0;32mprint\u001b[0m\u001b[0;34m(\u001b[0m\u001b[0;34m\"Solution by False Position Method is \"\u001b[0m\u001b[0;34m,\u001b[0m \u001b[0mfpm_ans\u001b[0m\u001b[0;34m)\u001b[0m\u001b[0;34m\u001b[0m\u001b[0m\n\u001b[1;32m     17\u001b[0m \u001b[0;32mprint\u001b[0m\u001b[0;34m(\u001b[0m\u001b[0;34m\"No of iterations in False Position Method \"\u001b[0m\u001b[0;34m,\u001b[0m \u001b[0mno_of_iteration\u001b[0m\u001b[0;34m)\u001b[0m\u001b[0;34m\u001b[0m\u001b[0m\n",
      "\u001b[0;32m<ipython-input-6-30fb33996e00>\u001b[0m in \u001b[0;36mFalse_Position_Method\u001b[0;34m(f, a, b, E_s, max_iteration)\u001b[0m\n\u001b[1;32m      4\u001b[0m     \u001b[0mold_ans\u001b[0m \u001b[0;34m=\u001b[0m \u001b[0;36m0\u001b[0m\u001b[0;34m\u001b[0m\u001b[0m\n\u001b[1;32m      5\u001b[0m     \u001b[0mcount\u001b[0m \u001b[0;34m=\u001b[0m \u001b[0;36m0\u001b[0m\u001b[0;34m\u001b[0m\u001b[0m\n\u001b[0;32m----> 6\u001b[0;31m     \u001b[0;32mif\u001b[0m\u001b[0;34m(\u001b[0m\u001b[0mf\u001b[0m\u001b[0;34m(\u001b[0m\u001b[0ma\u001b[0m\u001b[0;34m)\u001b[0m \u001b[0;34m*\u001b[0m \u001b[0mf\u001b[0m\u001b[0;34m(\u001b[0m\u001b[0mb\u001b[0m\u001b[0;34m)\u001b[0m \u001b[0;34m>=\u001b[0m \u001b[0;36m0\u001b[0m\u001b[0;34m)\u001b[0m\u001b[0;34m:\u001b[0m\u001b[0;34m\u001b[0m\u001b[0m\n\u001b[0m\u001b[1;32m      7\u001b[0m         \u001b[0;32mprint\u001b[0m\u001b[0;34m(\u001b[0m\u001b[0mTRED\u001b[0m \u001b[0;34m+\u001b[0m \u001b[0;34m\"False Position Method failed\"\u001b[0m\u001b[0;34m)\u001b[0m\u001b[0;34m\u001b[0m\u001b[0m\n\u001b[1;32m      8\u001b[0m         \u001b[0;31m#return None\u001b[0m\u001b[0;34m\u001b[0m\u001b[0;34m\u001b[0m\u001b[0m\n",
      "\u001b[0;32m<ipython-input-3-b291116d0edf>\u001b[0m in \u001b[0;36mf\u001b[0;34m(x)\u001b[0m\n\u001b[1;32m      1\u001b[0m \u001b[0;32mdef\u001b[0m \u001b[0mf\u001b[0m\u001b[0;34m(\u001b[0m\u001b[0mx\u001b[0m\u001b[0;34m)\u001b[0m\u001b[0;34m:\u001b[0m\u001b[0;34m\u001b[0m\u001b[0m\n\u001b[0;32m----> 2\u001b[0;31m     \u001b[0;32mreturn\u001b[0m \u001b[0;34m(\u001b[0m\u001b[0mx\u001b[0m\u001b[0;34m/\u001b[0m\u001b[0;34m(\u001b[0m\u001b[0;36m1\u001b[0m \u001b[0;34m-\u001b[0m \u001b[0mx\u001b[0m\u001b[0;34m)\u001b[0m\u001b[0;34m)\u001b[0m \u001b[0;34m*\u001b[0m \u001b[0mnp\u001b[0m\u001b[0;34m.\u001b[0m\u001b[0msqrt\u001b[0m\u001b[0;34m(\u001b[0m\u001b[0;36m2\u001b[0m \u001b[0;34m*\u001b[0m \u001b[0mp_t\u001b[0m \u001b[0;34m/\u001b[0m \u001b[0;34m(\u001b[0m\u001b[0;36m2\u001b[0m \u001b[0;34m+\u001b[0m \u001b[0mx\u001b[0m\u001b[0;34m)\u001b[0m\u001b[0;34m)\u001b[0m \u001b[0;34m-\u001b[0m \u001b[0mK\u001b[0m\u001b[0;34m\u001b[0m\u001b[0m\n\u001b[0m",
      "\u001b[0;31mZeroDivisionError\u001b[0m: float division by zero"
     ]
    }
   ],
   "source": [
    "first_in_guess = input(\"Enter first initial guess of secant method \")\n",
    "second_in_guess = input(\"Enter second initial guess of secant method \")\n",
    "max_itr =  input(\"Enter maximum no of iteration \")\n",
    "\n",
    "sec_ans , no_of_iteration = secant(f,float(first_in_guess), float(second_in_guess), 0.005,int(max_itr))\n",
    "\n",
    "print(\"Solution by secant method is \", sec_ans)\n",
    "print(\"No of iterations in secant method\", no_of_iteration)\n",
    "\n",
    "first_in_guess = input(\"Enter first initial guess of false position method \")\n",
    "second_in_guess = input(\"Enter second initial guess of false position method \")\n",
    "max_itr = input(\"Enter maximum no of iteration\")\n",
    "\n",
    "fpm_ans , no_of_iteration = False_Position_Method(f, float(first_in_guess), float(second_in_guess), \n",
    "                                                  0.005, int(max_itr))\n",
    "print(\"Solution by False Position Method is \", fpm_ans)\n",
    "print(\"No of iterations in False Position Method \", no_of_iteration)"
   ]
  },
  {
   "cell_type": "code",
   "execution_count": null,
   "metadata": {},
   "outputs": [],
   "source": []
  },
  {
   "cell_type": "code",
   "execution_count": null,
   "metadata": {},
   "outputs": [],
   "source": []
  },
  {
   "cell_type": "code",
   "execution_count": null,
   "metadata": {},
   "outputs": [],
   "source": []
  }
 ],
 "metadata": {
  "kernelspec": {
   "display_name": "Python 2",
   "language": "python",
   "name": "python2"
  },
  "language_info": {
   "codemirror_mode": {
    "name": "ipython",
    "version": 2
   },
   "file_extension": ".py",
   "mimetype": "text/x-python",
   "name": "python",
   "nbconvert_exporter": "python",
   "pygments_lexer": "ipython2",
   "version": "2.7.18"
  }
 },
 "nbformat": 4,
 "nbformat_minor": 2
}
